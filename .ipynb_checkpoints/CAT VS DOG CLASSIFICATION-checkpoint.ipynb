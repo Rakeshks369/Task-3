{
 "cells": [
  {
   "cell_type": "code",
   "execution_count": 1,
   "id": "24a47e23",
   "metadata": {},
   "outputs": [
    {
     "name": "stdout",
     "output_type": "stream",
     "text": [
      "WARNING:tensorflow:From C:\\Users\\RAKESH KS\\anaconda3\\Lib\\site-packages\\keras\\src\\losses.py:2976: The name tf.losses.sparse_softmax_cross_entropy is deprecated. Please use tf.compat.v1.losses.sparse_softmax_cross_entropy instead.\n",
      "\n",
      "WARNING:tensorflow:From C:\\Users\\RAKESH KS\\AppData\\Local\\Temp\\ipykernel_4972\\446030026.py:10: The name tf.get_default_graph is deprecated. Please use tf.compat.v1.get_default_graph instead.\n",
      "\n"
     ]
    }
   ],
   "source": [
    "import numpy as np\n",
    "import random\n",
    "import tensorflow as tf\n",
    "import matplotlib.pyplot as plt\n",
    "import matplotlib.pyplot as plt\n",
    "from tensorflow.keras.models import Sequential  \n",
    "from tensorflow.keras.layers import Conv2D, MaxPooling2D, Dense, Flatten, Dropout\n",
    "from tensorflow.keras.optimizers import Adam\n",
    "from tensorflow.keras.preprocessing.image import ImageDataGenerator\n",
    "graph = tf.compat.v1.get_default_graph()\n",
    "loss = tf.compat.v1.losses.sparse_softmax_cross_entropy(labels=labels, logits=logits)"
   ]
  },
  {
   "cell_type": "markdown",
   "id": "0c2d4984",
   "metadata": {},
   "source": [
    "# Loading"
   ]
  },
  {
   "cell_type": "code",
   "execution_count": 2,
   "id": "160bc69b",
   "metadata": {},
   "outputs": [
    {
     "name": "stdout",
     "output_type": "stream",
     "text": [
      "Found 500 images belonging to 2 classes.\n",
      "Found 50 images belonging to 2 classes.\n"
     ]
    }
   ],
   "source": [
    "# Define paths\n",
    "train_data_dir = 'dogvscat/train'\n",
    "test_data_dir = 'dogvscat/test'\n",
    "\n",
    "# Define image preprocessing parameters\n",
    "img_width, img_height = 100, 100 \n",
    "batch_size = 32\n",
    "num_epochs = 20  \n",
    "\n",
    "# Use ImageDataGenerator to load and preprocess images for training\n",
    "train_datagen = ImageDataGenerator(\n",
    "    rescale=1.0 / 255,\n",
    "    shear_range=0.2,\n",
    "    zoom_range=0.2,\n",
    "    horizontal_flip=True,\n",
    "    rotation_range=40,  # Example rotation range\n",
    "    width_shift_range=0.2,  # Example width shift range\n",
    "    height_shift_range=0.2,  # Example height shift range\n",
    "    fill_mode='nearest'\n",
    ")\n",
    "\n",
    "# Only rescale the testing images (no augmentation for testing)\n",
    "test_datagen = ImageDataGenerator(rescale=1.0 / 255)\n",
    "\n",
    "# Generate batches of image data from the directories for training and testing\n",
    "train_generator = train_datagen.flow_from_directory(\n",
    "    train_data_dir,\n",
    "    target_size=(img_width, img_height),\n",
    "    batch_size=batch_size,\n",
    "    class_mode='categorical')  # Use 'categorical' for multiclass classification\n",
    "\n",
    "test_generator = test_datagen.flow_from_directory(\n",
    "    test_data_dir,\n",
    "    target_size=(img_width, img_height),\n",
    "    batch_size=batch_size,\n",
    "    class_mode='categorical')\n"
   ]
  },
  {
   "cell_type": "markdown",
   "id": "c2962d9c",
   "metadata": {},
   "source": [
    "# Preprocessing data"
   ]
  },
  {
   "cell_type": "code",
   "execution_count": 3,
   "id": "3deb7231",
   "metadata": {},
   "outputs": [],
   "source": [
    "# Convert generators to numpy arrays\n",
    "X_train, Y_train = train_generator.next()\n",
    "X_test, Y_test = test_generator.next()\n",
    "\n",
    "# Reshape and normalize the data\n",
    "X_train = X_train.reshape(len(X_train), img_width, img_height, 3) / 255.0\n",
    "X_test = X_test.reshape(len(X_test), img_width, img_height, 3) / 255.0\n",
    "Y_train = np.argmax(Y_train, axis=1).reshape(len(Y_train), 1)  # Assuming it's one-hot encoded\n",
    "Y_test = np.argmax(Y_test, axis=1).reshape(len(Y_test), 1)  # Assuming it's one-hot encoded"
   ]
  },
  {
   "cell_type": "markdown",
   "id": "a50ec818",
   "metadata": {},
   "source": [
    "# Build the cnn model"
   ]
  },
  {
   "cell_type": "code",
   "execution_count": 4,
   "id": "4c733588",
   "metadata": {},
   "outputs": [
    {
     "name": "stdout",
     "output_type": "stream",
     "text": [
      "WARNING:tensorflow:From C:\\Users\\RAKESH KS\\anaconda3\\Lib\\site-packages\\keras\\src\\backend.py:873: The name tf.get_default_graph is deprecated. Please use tf.compat.v1.get_default_graph instead.\n",
      "\n",
      "WARNING:tensorflow:From C:\\Users\\RAKESH KS\\anaconda3\\Lib\\site-packages\\keras\\src\\layers\\pooling\\max_pooling2d.py:161: The name tf.nn.max_pool is deprecated. Please use tf.nn.max_pool2d instead.\n",
      "\n",
      "WARNING:tensorflow:From C:\\Users\\RAKESH KS\\anaconda3\\Lib\\site-packages\\keras\\src\\optimizers\\__init__.py:309: The name tf.train.Optimizer is deprecated. Please use tf.compat.v1.train.Optimizer instead.\n",
      "\n",
      "Model: \"sequential\"\n",
      "_________________________________________________________________\n",
      " Layer (type)                Output Shape              Param #   \n",
      "=================================================================\n",
      " conv2d (Conv2D)             (None, 98, 98, 32)        896       \n",
      "                                                                 \n",
      " max_pooling2d (MaxPooling2  (None, 49, 49, 32)        0         \n",
      " D)                                                              \n",
      "                                                                 \n",
      " conv2d_1 (Conv2D)           (None, 47, 47, 64)        18496     \n",
      "                                                                 \n",
      " max_pooling2d_1 (MaxPoolin  (None, 23, 23, 64)        0         \n",
      " g2D)                                                            \n",
      "                                                                 \n",
      " conv2d_2 (Conv2D)           (None, 21, 21, 128)       73856     \n",
      "                                                                 \n",
      " max_pooling2d_2 (MaxPoolin  (None, 10, 10, 128)       0         \n",
      " g2D)                                                            \n",
      "                                                                 \n",
      " flatten (Flatten)           (None, 12800)             0         \n",
      "                                                                 \n",
      " dense (Dense)               (None, 256)               3277056   \n",
      "                                                                 \n",
      " dropout (Dropout)           (None, 256)               0         \n",
      "                                                                 \n",
      " dense_1 (Dense)             (None, 128)               32896     \n",
      "                                                                 \n",
      " dropout_1 (Dropout)         (None, 128)               0         \n",
      "                                                                 \n",
      " dense_2 (Dense)             (None, 2)                 258       \n",
      "                                                                 \n",
      "=================================================================\n",
      "Total params: 3403458 (12.98 MB)\n",
      "Trainable params: 3403458 (12.98 MB)\n",
      "Non-trainable params: 0 (0.00 Byte)\n",
      "_________________________________________________________________\n"
     ]
    }
   ],
   "source": [
    "num_classes = len(train_generator.class_indices)\n",
    "\n",
    "# Define the CNN model\n",
    "model = Sequential()\n",
    "\n",
    "# Convolutional layers\n",
    "model.add(Conv2D(32, (3, 3), activation='relu', input_shape=(img_width, img_height, 3)))\n",
    "model.add(MaxPooling2D(pool_size=(2, 2)))\n",
    "\n",
    "model.add(Conv2D(64, (3, 3), activation='relu'))\n",
    "model.add(MaxPooling2D(pool_size=(2, 2)))\n",
    "\n",
    "model.add(Conv2D(128, (3, 3), activation='relu'))\n",
    "model.add(MaxPooling2D(pool_size=(2, 2)))\n",
    "\n",
    "# Flatten layer to feed into dense layers\n",
    "model.add(Flatten())\n",
    "\n",
    "# Dense layers\n",
    "model.add(Dense(256, activation='relu'))\n",
    "model.add(Dropout(0.5))  # Adding dropout for regularization\n",
    "\n",
    "model.add(Dense(128, activation='relu'))\n",
    "model.add(Dropout(0.5))\n",
    "\n",
    "# Output layer\n",
    "model.add(Dense(num_classes, activation='softmax'))\n",
    "\n",
    "# Compile the model\n",
    "model.compile(optimizer='adam', loss='categorical_crossentropy', metrics=['accuracy'])\n",
    "\n",
    "# Print model summary\n",
    "model.summary()"
   ]
  },
  {
   "cell_type": "markdown",
   "id": "097a2132",
   "metadata": {},
   "source": [
    "# Training Data"
   ]
  },
  {
   "cell_type": "code",
   "execution_count": null,
   "id": "03ba22f6",
   "metadata": {},
   "outputs": [
    {
     "name": "stdout",
     "output_type": "stream",
     "text": [
      "Epoch 1/20\n",
      "WARNING:tensorflow:From C:\\Users\\RAKESH KS\\anaconda3\\Lib\\site-packages\\keras\\src\\utils\\tf_utils.py:492: The name tf.ragged.RaggedTensorValue is deprecated. Please use tf.compat.v1.ragged.RaggedTensorValue instead.\n",
      "\n",
      "16/16 [==============================] - 41s 2s/step - loss: 0.6868 - accuracy: 0.6000 - val_loss: 0.5031 - val_accuracy: 0.7400\n",
      "Epoch 2/20\n",
      "16/16 [==============================] - 38s 2s/step - loss: 0.5390 - accuracy: 0.7420 - val_loss: 0.4623 - val_accuracy: 0.8200\n",
      "Epoch 3/20\n",
      "11/16 [===================>..........] - ETA: 9s - loss: 0.4838 - accuracy: 0.7735 "
     ]
    }
   ],
   "source": [
    "from tensorflow.keras.applications import VGG16\n",
    "from tensorflow.keras.layers import GlobalAveragePooling2D, Dense\n",
    "from tensorflow.keras.models import Model\n",
    "\n",
    "base_model = VGG16(weights='imagenet', include_top=False, input_shape=(100, 100, 3))\n",
    "\n",
    "# Freeze the layers of the pre-trained model\n",
    "for layer in base_model.layers:\n",
    "    layer.trainable = False\n",
    "\n",
    "x = base_model.output\n",
    "x = GlobalAveragePooling2D()(x)\n",
    "x = Dense(256, activation='relu')(x)\n",
    "predictions = Dense(num_classes, activation='softmax')(x)\n",
    "\n",
    "model = Model(inputs=base_model.input, outputs=predictions)\n",
    "\n",
    "# Compile the model\n",
    "model.compile(optimizer='adam', loss='categorical_crossentropy', metrics=['accuracy'])\n",
    "\n",
    "# Train the model\n",
    "history = model.fit(train_generator, steps_per_epoch=len(train_generator), epochs=num_epochs, validation_data=test_generator, validation_steps=len(test_generator))\n",
    "\n",
    "\n",
    "# Plot training history\n",
    "plt.figure(figsize=(10, 4))\n",
    "\n",
    "# Plot training & validation accuracy values\n",
    "plt.subplot(1, 2, 1)\n",
    "plt.plot(history.history['accuracy'])\n",
    "plt.plot(history.history['val_accuracy'])\n",
    "plt.title('Model accuracy')\n",
    "plt.xlabel('Epoch')\n",
    "plt.ylabel('Accuracy')\n",
    "plt.legend(['Train', 'Validation'], loc='upper left')\n",
    "\n",
    "# Plot training & validation loss values\n",
    "plt.subplot(1, 2, 2)\n",
    "plt.plot(history.history['loss'])\n",
    "plt.plot(history.history['val_loss'])\n",
    "plt.title('Model loss')\n",
    "plt.xlabel('Epoch')\n",
    "plt.ylabel('Loss')\n",
    "plt.legend(['Train', 'Validation'], loc='upper left')\n",
    "\n",
    "plt.tight_layout()\n",
    "plt.show()"
   ]
  },
  {
   "cell_type": "markdown",
   "id": "965c972e",
   "metadata": {},
   "source": [
    "# Evaluate the model on test data"
   ]
  },
  {
   "cell_type": "code",
   "execution_count": 65,
   "id": "3bc0ff38",
   "metadata": {},
   "outputs": [
    {
     "name": "stdout",
     "output_type": "stream",
     "text": [
      "2/2 [==============================] - 4s 927ms/step - loss: 0.4386 - accuracy: 0.8200\n",
      "Test accuracy: 0.8199999928474426\n"
     ]
    }
   ],
   "source": [
    "# Evaluate the model on test data\n",
    "test_loss, test_accuracy = model.evaluate(test_generator, steps=len(test_generator))\n",
    "print(f\"Test accuracy: {test_accuracy}\")"
   ]
  },
  {
   "cell_type": "markdown",
   "id": "f872b05b",
   "metadata": {},
   "source": [
    "# Select a random image from the test set for prediction"
   ]
  },
  {
   "cell_type": "code",
   "execution_count": 75,
   "id": "0cc3775f",
   "metadata": {},
   "outputs": [
    {
     "name": "stdout",
     "output_type": "stream",
     "text": [
      "1/1 [==============================] - 0s 137ms/step\n"
     ]
    },
    {
     "data": {
      "image/png": "[encoded data removed]",
      "text/plain": [
       "<Figure size 640x480 with 1 Axes>"
      ]
     },
     "metadata": {},
     "output_type": "display_data"
    }
   ],
   "source": [
    "import random\n",
    "\n",
    "# Get a random batch of test data (one batch)\n",
    "test_data_batch, test_labels_batch = test_generator.next()\n",
    "\n",
    "# Select a random index within the batch\n",
    "random_index = random.randint(0, len(test_data_batch) - 1)\n",
    "\n",
    "# Get the random image and label from the batch\n",
    "random_image = test_data_batch[random_index]\n",
    "random_label = test_labels_batch[random_index]\n",
    "\n",
    "# Expand dimensions to match the input shape expected by the model\n",
    "random_image = np.expand_dims(random_image, axis=0)\n",
    "\n",
    "# Make a prediction using the trained model\n",
    "predictions = model.predict(random_image)\n",
    "\n",
    "# Get the predicted class index with the highest probability\n",
    "predicted_class_index = np.argmax(predictions)\n",
    "\n",
    "# Map predicted class index to class label\n",
    "if predicted_class_index == 0:\n",
    "    predicted_class = 'Cat'\n",
    "else:\n",
    "    predicted_class = 'Dog'\n",
    "\n",
    "# Map actual class index to class label\n",
    "actual_class_index = np.argmax(random_label)\n",
    "if actual_class_index == 0:\n",
    "    actual_class = 'Cat'\n",
    "else:\n",
    "    actual_class = 'Dog'\n",
    "\n",
    "# Display the random image, its actual label, and the predicted label\n",
    "plt.imshow(random_image.squeeze())\n",
    "plt.axis('off')\n",
    "plt.title(f\"Actual: {actual_class}, Predicted: {predicted_class}\")\n",
    "plt.show()\n"
   ]
  },
  {
   "cell_type": "code",
   "execution_count": null,
   "id": "456730be",
   "metadata": {},
   "outputs": [],
   "source": []
  },
  {
   "cell_type": "code",
   "execution_count": null,
   "id": "01097388",
   "metadata": {},
   "outputs": [],
   "source": []
  }
 ],
 "metadata": {
  "kernelspec": {
   "display_name": "Python 3 (ipykernel)",
   "language": "python",
   "name": "python3"
  },
  "language_info": {
   "codemirror_mode": {
    "name": "ipython",
    "version": 3
   },
   "file_extension": ".py",
   "mimetype": "text/x-python",
   "name": "python",
   "nbconvert_exporter": "python",
   "pygments_lexer": "ipython3",
   "version": "3.11.5"
  }
 },
 "nbformat": 4,
 "nbformat_minor": 5
}
