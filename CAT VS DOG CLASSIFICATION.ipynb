{
 "cells": [
  {
   "cell_type": "code",
   "execution_count": 2,
   "id": "24a47e23",
   "metadata": {},
   "outputs": [
    {
     "name": "stdout",
     "output_type": "stream",
     "text": [
      "WARNING:tensorflow:From C:\\Users\\RAKESH KS\\anaconda3\\Lib\\site-packages\\keras\\src\\losses.py:2976: The name tf.losses.sparse_softmax_cross_entropy is deprecated. Please use tf.compat.v1.losses.sparse_softmax_cross_entropy instead.\n",
      "\n",
      "WARNING:tensorflow:From C:\\Users\\RAKESH KS\\AppData\\Local\\Temp\\ipykernel_16668\\4241024709.py:9: The name tf.get_default_graph is deprecated. Please use tf.compat.v1.get_default_graph instead.\n",
      "\n"
     ]
    },
    {
     "ename": "NameError",
     "evalue": "name 'labels' is not defined",
     "output_type": "error",
     "traceback": [
      "\u001b[1;31m---------------------------------------------------------------------------\u001b[0m",
      "\u001b[1;31mNameError\u001b[0m                                 Traceback (most recent call last)",
      "Cell \u001b[1;32mIn[2], line 10\u001b[0m\n\u001b[0;32m      8\u001b[0m \u001b[38;5;28;01mfrom\u001b[39;00m \u001b[38;5;21;01mtensorflow\u001b[39;00m\u001b[38;5;21;01m.\u001b[39;00m\u001b[38;5;21;01mkeras\u001b[39;00m\u001b[38;5;21;01m.\u001b[39;00m\u001b[38;5;21;01mpreprocessing\u001b[39;00m\u001b[38;5;21;01m.\u001b[39;00m\u001b[38;5;21;01mimage\u001b[39;00m \u001b[38;5;28;01mimport\u001b[39;00m ImageDataGenerator\n\u001b[0;32m      9\u001b[0m graph \u001b[38;5;241m=\u001b[39m tf\u001b[38;5;241m.\u001b[39mcompat\u001b[38;5;241m.\u001b[39mv1\u001b[38;5;241m.\u001b[39mget_default_graph()\n\u001b[1;32m---> 10\u001b[0m loss \u001b[38;5;241m=\u001b[39m tf\u001b[38;5;241m.\u001b[39mcompat\u001b[38;5;241m.\u001b[39mv1\u001b[38;5;241m.\u001b[39mlosses\u001b[38;5;241m.\u001b[39msparse_softmax_cross_entropy(labels\u001b[38;5;241m=\u001b[39mlabels, logits\u001b[38;5;241m=\u001b[39mlogits)\n",
      "\u001b[1;31mNameError\u001b[0m: name 'labels' is not defined"
     ]
    }
   ],
   "source": [
    "import numpy as np\n",
    "import random\n",
    "import tensorflow as tf\n",
    "import matplotlib.pyplot as plt\n",
    "from tensorflow.keras.models import Sequential  \n",
    "from tensorflow.keras.layers import Conv2D, MaxPooling2D, Dense, Flatten, Dropout\n",
    "from tensorflow.keras.optimizers import Adam\n",
    "from tensorflow.keras.preprocessing.image import ImageDataGenerator\n",
    "graph = tf.compat.v1.get_default_graph()\n",
    "loss = tf.compat.v1.losses.sparse_softmax_cross_entropy(labels=labels, logits=logits)"
   ]
  },
  {
   "cell_type": "markdown",
   "id": "0c2d4984",
   "metadata": {},
   "source": [
    "# Loading"
   ]
  },
  {
   "cell_type": "code",
   "execution_count": 3,
   "id": "160bc69b",
   "metadata": {},
   "outputs": [
    {
     "name": "stdout",
     "output_type": "stream",
     "text": [
      "Found 500 images belonging to 2 classes.\n",
      "Found 50 images belonging to 2 classes.\n"
     ]
    }
   ],
   "source": [
    "# Define paths\n",
    "train_data_dir = 'dogvscat/train'\n",
    "test_data_dir = 'dogvscat/test'\n",
    "\n",
    "# Define image preprocessing parameters\n",
    "img_width, img_height = 100, 100 \n",
    "batch_size = 32\n",
    "num_epochs = 20  \n",
    "\n",
    "# Use ImageDataGenerator to load and preprocess images for training\n",
    "train_datagen = ImageDataGenerator(\n",
    "    rescale=1.0 / 255,\n",
    "    shear_range=0.2,\n",
    "    zoom_range=0.2,\n",
    "    horizontal_flip=True,\n",
    "    rotation_range=40,  # Example rotation range\n",
    "    width_shift_range=0.2,  # Example width shift range\n",
    "    height_shift_range=0.2,  # Example height shift range\n",
    "    fill_mode='nearest'\n",
    ")\n",
    "\n",
    "# Only rescale the testing images (no augmentation for testing)\n",
    "test_datagen = ImageDataGenerator(rescale=1.0 / 255)\n",
    "\n",
    "# Generate batches of image data from the directories for training and testing\n",
    "train_generator = train_datagen.flow_from_directory(\n",
    "    train_data_dir,\n",
    "    target_size=(img_width, img_height),\n",
    "    batch_size=batch_size,\n",
    "    class_mode='categorical')  # Use 'categorical' for multiclass classification\n",
    "\n",
    "test_generator = test_datagen.flow_from_directory(\n",
    "    test_data_dir,\n",
    "    target_size=(img_width, img_height),\n",
    "    batch_size=batch_size,\n",
    "    class_mode='categorical')\n"
   ]
  },
  {
   "cell_type": "markdown",
   "id": "c2962d9c",
   "metadata": {},
   "source": [
    "# Preprocessing data"
   ]
  },
  {
   "cell_type": "code",
   "execution_count": 4,
   "id": "3deb7231",
   "metadata": {},
   "outputs": [],
   "source": [
    "# Convert generators to numpy arrays\n",
    "X_train, Y_train = train_generator.next()\n",
    "X_test, Y_test = test_generator.next()\n",
    "\n",
    "# Reshape and normalize the data\n",
    "X_train = X_train.reshape(len(X_train), img_width, img_height, 3) / 255.0\n",
    "X_test = X_test.reshape(len(X_test), img_width, img_height, 3) / 255.0\n",
    "Y_train = np.argmax(Y_train, axis=1).reshape(len(Y_train), 1)  # Assuming it's one-hot encoded\n",
    "Y_test = np.argmax(Y_test, axis=1).reshape(len(Y_test), 1)  # Assuming it's one-hot encoded"
   ]
  },
  {
   "cell_type": "markdown",
   "id": "a50ec818",
   "metadata": {},
   "source": [
    "# Build the cnn model"
   ]
  },
  {
   "cell_type": "code",
   "execution_count": 5,
   "id": "4c733588",
   "metadata": {},
   "outputs": [
    {
     "name": "stdout",
     "output_type": "stream",
     "text": [
      "WARNING:tensorflow:From C:\\Users\\RAKESH KS\\anaconda3\\Lib\\site-packages\\keras\\src\\backend.py:873: The name tf.get_default_graph is deprecated. Please use tf.compat.v1.get_default_graph instead.\n",
      "\n",
      "WARNING:tensorflow:From C:\\Users\\RAKESH KS\\anaconda3\\Lib\\site-packages\\keras\\src\\layers\\pooling\\max_pooling2d.py:161: The name tf.nn.max_pool is deprecated. Please use tf.nn.max_pool2d instead.\n",
      "\n",
      "WARNING:tensorflow:From C:\\Users\\RAKESH KS\\anaconda3\\Lib\\site-packages\\keras\\src\\optimizers\\__init__.py:309: The name tf.train.Optimizer is deprecated. Please use tf.compat.v1.train.Optimizer instead.\n",
      "\n",
      "Model: \"sequential\"\n",
      "_________________________________________________________________\n",
      " Layer (type)                Output Shape              Param #   \n",
      "=================================================================\n",
      " conv2d (Conv2D)             (None, 98, 98, 32)        896       \n",
      "                                                                 \n",
      " max_pooling2d (MaxPooling2  (None, 49, 49, 32)        0         \n",
      " D)                                                              \n",
      "                                                                 \n",
      " conv2d_1 (Conv2D)           (None, 47, 47, 64)        18496     \n",
      "                                                                 \n",
      " max_pooling2d_1 (MaxPoolin  (None, 23, 23, 64)        0         \n",
      " g2D)                                                            \n",
      "                                                                 \n",
      " conv2d_2 (Conv2D)           (None, 21, 21, 128)       73856     \n",
      "                                                                 \n",
      " max_pooling2d_2 (MaxPoolin  (None, 10, 10, 128)       0         \n",
      " g2D)                                                            \n",
      "                                                                 \n",
      " flatten (Flatten)           (None, 12800)             0         \n",
      "                                                                 \n",
      " dense (Dense)               (None, 256)               3277056   \n",
      "                                                                 \n",
      " dropout (Dropout)           (None, 256)               0         \n",
      "                                                                 \n",
      " dense_1 (Dense)             (None, 128)               32896     \n",
      "                                                                 \n",
      " dropout_1 (Dropout)         (None, 128)               0         \n",
      "                                                                 \n",
      " dense_2 (Dense)             (None, 2)                 258       \n",
      "                                                                 \n",
      "=================================================================\n",
      "Total params: 3403458 (12.98 MB)\n",
      "Trainable params: 3403458 (12.98 MB)\n",
      "Non-trainable params: 0 (0.00 Byte)\n",
      "_________________________________________________________________\n"
     ]
    }
   ],
   "source": [
    "num_classes = len(train_generator.class_indices)\n",
    "\n",
    "# Define the CNN model\n",
    "model = Sequential()\n",
    "\n",
    "# Convolutional layers\n",
    "model.add(Conv2D(32, (3, 3), activation='relu', input_shape=(img_width, img_height, 3)))\n",
    "model.add(MaxPooling2D(pool_size=(2, 2)))\n",
    "\n",
    "model.add(Conv2D(64, (3, 3), activation='relu'))\n",
    "model.add(MaxPooling2D(pool_size=(2, 2)))\n",
    "\n",
    "model.add(Conv2D(128, (3, 3), activation='relu'))\n",
    "model.add(MaxPooling2D(pool_size=(2, 2)))\n",
    "\n",
    "# Flatten layer to feed into dense layers\n",
    "model.add(Flatten())\n",
    "\n",
    "# Dense layers\n",
    "model.add(Dense(256, activation='relu'))\n",
    "model.add(Dropout(0.5))  # Adding dropout for regularization\n",
    "\n",
    "model.add(Dense(128, activation='relu'))\n",
    "model.add(Dropout(0.5))\n",
    "\n",
    "# Output layer\n",
    "model.add(Dense(num_classes, activation='softmax'))\n",
    "\n",
    "# Compile the model\n",
    "model.compile(optimizer='adam', loss='categorical_crossentropy', metrics=['accuracy'])\n",
    "\n",
    "# Print model summary\n",
    "model.summary()"
   ]
  },
  {
   "cell_type": "markdown",
   "id": "097a2132",
   "metadata": {},
   "source": [
    "# Training Data"
   ]
  },
  {
   "cell_type": "code",
   "execution_count": 6,
   "id": "03ba22f6",
   "metadata": {},
   "outputs": [
    {
     "name": "stdout",
     "output_type": "stream",
     "text": [
      "Epoch 1/20\n",
      "WARNING:tensorflow:From C:\\Users\\RAKESH KS\\anaconda3\\Lib\\site-packages\\keras\\src\\utils\\tf_utils.py:492: The name tf.ragged.RaggedTensorValue is deprecated. Please use tf.compat.v1.ragged.RaggedTensorValue instead.\n",
      "\n",
      "16/16 [==============================] - 49s 3s/step - loss: 0.6282 - accuracy: 0.6360 - val_loss: 0.4509 - val_accuracy: 0.8200\n",
      "Epoch 2/20\n",
      "16/16 [==============================] - 40s 2s/step - loss: 0.5028 - accuracy: 0.7480 - val_loss: 0.4300 - val_accuracy: 0.7800\n",
      "Epoch 3/20\n",
      "16/16 [==============================] - 37s 2s/step - loss: 0.4953 - accuracy: 0.7540 - val_loss: 0.3786 - val_accuracy: 0.8400\n",
      "Epoch 4/20\n",
      "16/16 [==============================] - 34s 2s/step - loss: 0.4437 - accuracy: 0.7740 - val_loss: 0.3447 - val_accuracy: 0.8200\n",
      "Epoch 5/20\n",
      "16/16 [==============================] - 34s 2s/step - loss: 0.4077 - accuracy: 0.8340 - val_loss: 0.3487 - val_accuracy: 0.8400\n",
      "Epoch 6/20\n",
      "16/16 [==============================] - 37s 2s/step - loss: 0.3713 - accuracy: 0.8460 - val_loss: 0.3813 - val_accuracy: 0.8200\n",
      "Epoch 7/20\n",
      "16/16 [==============================] - 36s 2s/step - loss: 0.3842 - accuracy: 0.8380 - val_loss: 0.3609 - val_accuracy: 0.8400\n",
      "Epoch 8/20\n",
      "16/16 [==============================] - 34s 2s/step - loss: 0.3889 - accuracy: 0.8160 - val_loss: 0.3594 - val_accuracy: 0.8800\n",
      "Epoch 9/20\n",
      "16/16 [==============================] - 36s 2s/step - loss: 0.3823 - accuracy: 0.8160 - val_loss: 0.3865 - val_accuracy: 0.8400\n",
      "Epoch 10/20\n",
      "16/16 [==============================] - 35s 2s/step - loss: 0.3746 - accuracy: 0.8340 - val_loss: 0.3507 - val_accuracy: 0.8800\n",
      "Epoch 11/20\n",
      "16/16 [==============================] - 37s 2s/step - loss: 0.3505 - accuracy: 0.8380 - val_loss: 0.3598 - val_accuracy: 0.8800\n",
      "Epoch 12/20\n",
      "16/16 [==============================] - 36s 2s/step - loss: 0.3511 - accuracy: 0.8420 - val_loss: 0.4290 - val_accuracy: 0.8200\n",
      "Epoch 13/20\n",
      "16/16 [==============================] - 35s 2s/step - loss: 0.3610 - accuracy: 0.8440 - val_loss: 0.3726 - val_accuracy: 0.8800\n",
      "Epoch 14/20\n",
      "16/16 [==============================] - 34s 2s/step - loss: 0.3622 - accuracy: 0.8380 - val_loss: 0.3606 - val_accuracy: 0.8800\n",
      "Epoch 15/20\n",
      "16/16 [==============================] - 35s 2s/step - loss: 0.3077 - accuracy: 0.8660 - val_loss: 0.3613 - val_accuracy: 0.8600\n",
      "Epoch 16/20\n",
      "16/16 [==============================] - 33s 2s/step - loss: 0.3300 - accuracy: 0.8400 - val_loss: 0.3789 - val_accuracy: 0.8400\n",
      "Epoch 17/20\n",
      "16/16 [==============================] - 35s 2s/step - loss: 0.3618 - accuracy: 0.8380 - val_loss: 0.4159 - val_accuracy: 0.8000\n",
      "Epoch 18/20\n",
      "16/16 [==============================] - 35s 2s/step - loss: 0.3434 - accuracy: 0.8520 - val_loss: 0.4002 - val_accuracy: 0.8400\n",
      "Epoch 19/20\n",
      "16/16 [==============================] - 35s 2s/step - loss: 0.3750 - accuracy: 0.8460 - val_loss: 0.4549 - val_accuracy: 0.7800\n",
      "Epoch 20/20\n",
      "16/16 [==============================] - 41s 3s/step - loss: 0.4030 - accuracy: 0.7860 - val_loss: 0.4282 - val_accuracy: 0.8000\n"
     ]
    },
    {
     "data": {
      "image/png": "[encoded data removed]",
      "text/plain": [
       "<Figure size 1000x400 with 2 Axes>"
      ]
     },
     "metadata": {},
     "output_type": "display_data"
    }
   ],
   "source": [
    "from tensorflow.keras.applications import VGG16\n",
    "from tensorflow.keras.layers import GlobalAveragePooling2D, Dense\n",
    "from tensorflow.keras.models import Model\n",
    "\n",
    "base_model = VGG16(weights='imagenet', include_top=False, input_shape=(100, 100, 3))\n",
    "\n",
    "# Freeze the layers of the pre-trained model\n",
    "for layer in base_model.layers:\n",
    "    layer.trainable = False\n",
    "\n",
    "x = base_model.output\n",
    "x = GlobalAveragePooling2D()(x)\n",
    "x = Dense(256, activation='relu')(x)\n",
    "predictions = Dense(num_classes, activation='softmax')(x)\n",
    "\n",
    "model = Model(inputs=base_model.input, outputs=predictions)\n",
    "\n",
    "# Compile the model\n",
    "model.compile(optimizer='adam', loss='categorical_crossentropy', metrics=['accuracy'])\n",
    "\n",
    "# Train the model\n",
    "history = model.fit(train_generator, steps_per_epoch=len(train_generator), epochs=num_epochs, validation_data=test_generator, validation_steps=len(test_generator))\n",
    "\n",
    "\n",
    "# Plot training history\n",
    "plt.figure(figsize=(10, 4))\n",
    "\n",
    "# Plot training & validation accuracy values\n",
    "plt.subplot(1, 2, 1)\n",
    "plt.plot(history.history['accuracy'])\n",
    "plt.plot(history.history['val_accuracy'])\n",
    "plt.title('Model accuracy')\n",
    "plt.xlabel('Epoch')\n",
    "plt.ylabel('Accuracy')\n",
    "plt.legend(['Train', 'Validation'], loc='upper left')\n",
    "\n",
    "# Plot training & validation loss values\n",
    "plt.subplot(1, 2, 2)\n",
    "plt.plot(history.history['loss'])\n",
    "plt.plot(history.history['val_loss'])\n",
    "plt.title('Model loss')\n",
    "plt.xlabel('Epoch')\n",
    "plt.ylabel('Loss')\n",
    "plt.legend(['Train', 'Validation'], loc='upper left')\n",
    "\n",
    "plt.tight_layout()\n",
    "plt.show()"
   ]
  },
  {
   "cell_type": "markdown",
   "id": "965c972e",
   "metadata": {},
   "source": [
    "# Evaluate the model on test data"
   ]
  },
  {
   "cell_type": "code",
   "execution_count": 65,
   "id": "3bc0ff38",
   "metadata": {},
   "outputs": [
    {
     "name": "stdout",
     "output_type": "stream",
     "text": [
      "2/2 [==============================] - 4s 927ms/step - loss: 0.4386 - accuracy: 0.8200\n",
      "Test accuracy: 0.8199999928474426\n"
     ]
    }
   ],
   "source": [
    "# Evaluate the model on test data\n",
    "test_loss, test_accuracy = model.evaluate(test_generator, steps=len(test_generator))\n",
    "print(f\"Test accuracy: {test_accuracy}\")"
   ]
  },
  {
   "cell_type": "markdown",
   "id": "f872b05b",
   "metadata": {},
   "source": [
    "# Select a random image from the test set for prediction"
   ]
  },
  {
   "cell_type": "code",
   "execution_count": 1,
   "id": "0cc3775f",
   "metadata": {},
   "outputs": [
    {
     "ename": "NameError",
     "evalue": "name 'test_generator' is not defined",
     "output_type": "error",
     "traceback": [
      "\u001b[1;31m---------------------------------------------------------------------------\u001b[0m",
      "\u001b[1;31mNameError\u001b[0m                                 Traceback (most recent call last)",
      "Cell \u001b[1;32mIn[1], line 4\u001b[0m\n\u001b[0;32m      1\u001b[0m \u001b[38;5;28;01mimport\u001b[39;00m \u001b[38;5;21;01mrandom\u001b[39;00m\n\u001b[0;32m      3\u001b[0m \u001b[38;5;66;03m# Get a random batch of test data (one batch)\u001b[39;00m\n\u001b[1;32m----> 4\u001b[0m test_data_batch, test_labels_batch \u001b[38;5;241m=\u001b[39m test_generator\u001b[38;5;241m.\u001b[39mnext()\n\u001b[0;32m      6\u001b[0m \u001b[38;5;66;03m# Select a random index within the batch\u001b[39;00m\n\u001b[0;32m      7\u001b[0m random_index \u001b[38;5;241m=\u001b[39m random\u001b[38;5;241m.\u001b[39mrandint(\u001b[38;5;241m0\u001b[39m, \u001b[38;5;28mlen\u001b[39m(test_data_batch) \u001b[38;5;241m-\u001b[39m \u001b[38;5;241m1\u001b[39m)\n",
      "\u001b[1;31mNameError\u001b[0m: name 'test_generator' is not defined"
     ]
    }
   ],
   "source": [
    "import random\n",
    "\n",
    "# Get a random batch of test data (one batch)\n",
    "test_data_batch, test_labels_batch = test_generator.next()\n",
    "\n",
    "# Select a random index within the batch\n",
    "random_index = random.randint(0, len(test_data_batch) - 1)\n",
    "\n",
    "# Get the random image and label from the batch\n",
    "random_image = test_data_batch[random_index]\n",
    "random_label = test_labels_batch[random_index]\n",
    "\n",
    "# Expand dimensions to match the input shape expected by the model\n",
    "random_image = np.expand_dims(random_image, axis=0)\n",
    "\n",
    "# Make a prediction using the trained model\n",
    "predictions = model.predict(random_image)\n",
    "\n",
    "# Get the predicted class index with the highest probability\n",
    "predicted_class_index = np.argmax(predictions)\n",
    "\n",
    "# Map predicted class index to class label\n",
    "if predicted_class_index == 0:\n",
    "    predicted_class = 'Cat'\n",
    "else:\n",
    "    predicted_class = 'Dog'\n",
    "\n",
    "# Map actual class index to class label\n",
    "actual_class_index = np.argmax(random_label)\n",
    "if actual_class_index == 0:\n",
    "    actual_class = 'Cat'\n",
    "else:\n",
    "    actual_class = 'Dog'\n",
    "\n",
    "# Display the random image, its actual label, and the predicted label\n",
    "plt.imshow(random_image.squeeze())\n",
    "plt.axis('off')\n",
    "plt.title(f\"Actual: {actual_class}, Predicted: {predicted_class}\")\n",
    "plt.show()\n"
   ]
  },
  {
   "cell_type": "code",
   "execution_count": null,
   "id": "456730be",
   "metadata": {},
   "outputs": [],
   "source": []
  },
  {
   "cell_type": "code",
   "execution_count": null,
   "id": "01097388",
   "metadata": {},
   "outputs": [],
   "source": []
  }
 ],
 "metadata": {
  "kernelspec": {
   "display_name": "Python 3 (ipykernel)",
   "language": "python",
   "name": "python3"
  },
  "language_info": {
   "codemirror_mode": {
    "name": "ipython",
    "version": 3
   },
   "file_extension": ".py",
   "mimetype": "text/x-python",
   "name": "python",
   "nbconvert_exporter": "python",
   "pygments_lexer": "ipython3",
   "version": "3.11.5"
  }
 },
 "nbformat": 4,
 "nbformat_minor": 5
}
